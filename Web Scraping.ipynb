{
 "cells": [
  {
   "cell_type": "code",
   "execution_count": null,
   "metadata": {},
   "outputs": [],
   "source": [
    "#importing libraries\n",
    "from lxml import html\n",
    "import requests\n",
    "import json\n",
    "import argparse\n",
    "from collections import OrderedDict"
   ]
  },
  {
   "cell_type": "code",
   "execution_count": null,
   "metadata": {},
   "outputs": [],
   "source": [
    "#Fetching HTML title\n",
    "def get_headers():\n",
    "    return {\"accept\": \"text/html,application/xhtml+xml,application/xml;q=0.9,image/webp,image/apng,*/*;q=0.8,application/signed-exchange;v=b3;q=0.9\",\n",
    "            \"accept-encoding\": \"gzip, deflate, br\",\n",
    "            \"accept-language\": \"en-GB,en;q=0.9,en-US;q=0.8,ml;q=0.7\",\n",
    "            \"cache-control\": \"max-age=0\",\n",
    "            \"dnt\": \"1\",\n",
    "            \"sec-fetch-dest\": \"document\",\n",
    "            \"sec-fetch-mode\": \"navigate\",\n",
    "            \"sec-fetch-site\": \"none\",\n",
    "            \"sec-fetch-user\": \"?1\",\n",
    "            \"upgrade-insecure-requests\": \"1\",\n",
    "            \"user-agent\": \"Mozilla/5.0 (Windows NT 10.0; Win64; x64) AppleWebKit/537.36 (KHTML, like Gecko) Chrome/81.0.4044.122 Safari/537.36\"}"
   ]
  },
  {
   "cell_type": "code",
   "execution_count": null,
   "metadata": {},
   "outputs": [],
   "source": [
    "#Going through contents, specific to the company we are scrapping financial data for\n",
    "def parse(ticker):\n",
    "    url = \"http://finance.yahoo.com/quote/%s?p=%s\" % (ticker, ticker)\n",
    "    response = requests.get(\n",
    "        url, verify=False, headers=get_headers(), timeout=30)\n",
    "    print(\"Parsing %s\" % (url))\n",
    "    parser = html.fromstring(response.text)\n",
    "    summary_table = parser.xpath(\n",
    "        '//div[contains(@data-test,\"summary-table\")]//tr')\n",
    "    summary_data = OrderedDict()\n",
    "    other_details_json_link = \"https://query2.finance.yahoo.com/v10/finance/quoteSummary/{0}?formatted=true&lang=en-US&region=US&modules=summaryProfile%2CfinancialData%2CrecommendationTrend%2CupgradeDowngradeHistory%2Cearnings%2CdefaultKeyStatistics%2CcalendarEvents&corsDomain=finance.yahoo.com\".format(\n",
    "        ticker)\n",
    "    summary_json_response = requests.get(other_details_json_link)"
   ]
  },
  {
   "cell_type": "code",
   "execution_count": null,
   "metadata": {},
   "outputs": [],
   "source": [
    "    try:\n",
    "        json_loaded_summary = json.loads(summary_json_response.text)\n",
    "        summary = json_loaded_summary[\"quoteSummary\"][\"result\"][0]\n",
    "        y_Target_Est = summary[\"financialData\"][\"targetMeanPrice\"]['raw']\n",
    "        earnings_list = summary[\"calendarEvents\"]['earnings']\n",
    "        eps = summary[\"defaultKeyStatistics\"][\"trailingEps\"]['raw']\n",
    "        datelist = []\n",
    "\n",
    "        for i in earnings_list['earningsDate']:\n",
    "            datelist.append(i['fmt'])\n",
    "        earnings_date = ' to '.join(datelist)\n",
    "\n",
    "        for table_data in summary_table:\n",
    "            raw_table_key = table_data.xpath(\n",
    "                './/td[1]//text()')\n",
    "            raw_table_value = table_data.xpath(\n",
    "                './/td[2]//text()')\n",
    "            table_key = ''.join(raw_table_key).strip()\n",
    "            table_value = ''.join(raw_table_value).strip()\n",
    "            summary_data.update({table_key: table_value})\n",
    "        summary_data.update({'1y Target Est': y_Target_Est, 'EPS (TTM)': eps,'Earnings Date': earnings_date, 'ticker': ticker,'url': url})\n",
    "                return summary_data\n",
    "    except ValueError:\n",
    "        print(\"Failed to parse json response\")\n",
    "        return {\"error\": \"Failed to parse json response\"}\n",
    "    except:\n",
    "        return {\"error\": \"Unhandled Error\"}"
   ]
  },
  {
   "cell_type": "code",
   "execution_count": null,
   "metadata": {},
   "outputs": [],
   "source": [
    "   if __name__ == \"__main__\":\n",
    "    argparser = argparse.ArgumentParser()\n",
    "    argparser.add_argument('ticker', help='')\n",
    "    args = argparser.parse_args()\n",
    "    ticker = args.ticker\n",
    "    print(\"Fetching data for %s\" % (ticker))\n",
    "    scraped_data = parse(ticker)\n",
    "    print(\"Writing data to output file\")\n",
    "    with open('%s-summary.json' % (ticker), 'w') as fp:\n",
    "        json.dump(scraped_data, fp, indent=4)"
   ]
  },
  {
   "cell_type": "code",
   "execution_count": null,
   "metadata": {},
   "outputs": [],
   "source": []
  },
  {
   "cell_type": "code",
   "execution_count": null,
   "metadata": {},
   "outputs": [],
   "source": []
  }
 ],
 "metadata": {
  "kernelspec": {
   "display_name": "Python 3",
   "language": "python",
   "name": "python3"
  },
  "language_info": {
   "codemirror_mode": {
    "name": "ipython",
    "version": 3
   },
   "file_extension": ".py",
   "mimetype": "text/x-python",
   "name": "python",
   "nbconvert_exporter": "python",
   "pygments_lexer": "ipython3",
   "version": "3.7.6"
  }
 },
 "nbformat": 4,
 "nbformat_minor": 4
}
