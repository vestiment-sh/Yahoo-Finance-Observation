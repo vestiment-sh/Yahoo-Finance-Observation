{
 "cells": [
  {
   "cell_type": "code",
   "execution_count": null,
   "metadata": {
    "scrolled": false
   },
   "outputs": [],
   "source": [
    "#part3 \n",
    "#group members: Zeqing Yan(jackie) ,Steven Smith, King TingHelen Hong\n",
    "    \n",
    "   "
   ]
  },
  {
   "cell_type": "code",
   "execution_count": null,
   "metadata": {},
   "outputs": [],
   "source": [
    "import requests\n",
    "from bs4 import BeautifulSoup\n",
    "import pandas as pd\n",
    "import csv\n",
    "\n",
    "source = requests.get('https://finance.yahoo.com/quote/AMZN/key-statistics?p=AMZN').text\n",
    "\n",
    "soup = BeautifulSoup(source,'lxml')\n",
    "\n",
    " \n",
    "\n",
    "\n",
    "table = soup.find('div',class_='M(0) Whs(n) BdEnd Bdc($seperatorColor) D(itb)')\n",
    "\n",
    "tr = table.find('tr',class_='Bdtw(0px) C($primaryColor)')\n",
    "\n",
    "current = tr.find_all('span')[2].text\n",
    "first = tr.find_all('span')[3].text\n",
    "second = tr.find_all('span')[4].text\n",
    "third = tr.find_all('span')[5].text \n",
    "fourth = tr.find_all('span')[6].text\n",
    "\n",
    "print(current,first,second,third,fourth)\n",
    "\n",
    "tbody = table.find('tbody')\n",
    "\n",
    "\n",
    "\n",
    "\n",
    "for tr in tbody.find_all('tr'):\n",
    "    data_type = tr.find_all('span')[0].text\n",
    "    current = tr.find_all('td')[1].text\n",
    "    first = tr.find_all('td')[2].text\n",
    "    second = tr.find_all('td')[3].text\n",
    "    third = tr.find_all('td')[4].text\n",
    "    fourth = tr.find_all('td')[5].text\n",
    "    print(data_type,current,first,second,third,fourth)\n",
    "    \n",
    "    \n",
    "    \n",
    "\n",
    "    \n",
    "    print()"
   ]
  },
  {
   "cell_type": "code",
   "execution_count": null,
   "metadata": {},
   "outputs": [],
   "source": [
    "# writing/saving as csv file"
   ]
  },
  {
   "cell_type": "code",
   "execution_count": null,
   "metadata": {},
   "outputs": [],
   "source": [
    "import pandas as pd\n",
    "\n",
    "df = pd.DataFrame({'Amazondata':['Market Cap (intraday)','Enterprise Value','Trailing P/E','Forward P/E','PEG Ratio (5 yr expected)','Price/Sales','Price/Book','Enterprise Value/Revenue','Enterprise Value/EBITDA'],\n",
    "                   'current':['1.59T','1.60T','122.08','58.14','1.19','5.00','21.58','4.96','39.12'],\n",
    "                    '6/30/2020':[ '1.38T', '1.40T', '131.81',  '128.21', '2.97', '4.70', '21.18', '15.71', '112.89' ],\n",
    "                    '3/31/2020':['972.91B','981.09B', '84.73', '66.23','1.50','3.50','15.68','13.00','107.26'] ,\n",
    "                    '12/31/2019':['920.22B','936.35B','81.87','58.14','1.32','3.50','16.28','10.71','87.69'],\n",
    "                   '9/30/2019':['859.28B','876.28B','72.00','44.84','1.02','3.46','16.19','12.52','102.00']})\n",
    "\n",
    "                                  \n",
    "df    \n",
    "df.to_csv('Users/Jackie333/Desktop/data.csv')"
   ]
  },
  {
   "cell_type": "code",
   "execution_count": null,
   "metadata": {},
   "outputs": [],
   "source": [
    "df.isnull()"
   ]
  },
  {
   "cell_type": "code",
   "execution_count": null,
   "metadata": {},
   "outputs": [],
   "source": [
    "(df.isnull()).sum()"
   ]
  },
  {
   "cell_type": "code",
   "execution_count": null,
   "metadata": {},
   "outputs": [],
   "source": []
  }
 ],
 "metadata": {
  "kernelspec": {
   "display_name": "Python 3",
   "language": "python",
   "name": "python3"
  },
  "language_info": {
   "codemirror_mode": {
    "name": "ipython",
    "version": 3
   },
   "file_extension": ".py",
   "mimetype": "text/x-python",
   "name": "python",
   "nbconvert_exporter": "python",
   "pygments_lexer": "ipython3",
   "version": "3.7.6"
  }
 },
 "nbformat": 4,
 "nbformat_minor": 2
}
